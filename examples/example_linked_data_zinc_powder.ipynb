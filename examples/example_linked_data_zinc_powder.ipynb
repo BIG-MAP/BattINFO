{
 "cells": [
  {
   "cell_type": "markdown",
   "metadata": {
    "id": "1wseTQGaB4x9"
   },
   "source": [
    "# Example: Zinc Powder from a Supplier\n",
    "\n",
    "Let's describe an instance of some zinc powder with a set of properties defined in the specification sheet from the manufacturer!\n",
    "\n",
    "This example covers a few topics:  \n",
    "\n",
    "- How to describe a resource using ontology terms and JSON-LD  \n",
    "- How machines convert JSON-LD into triples  \n",
    "- What is the meaning of the subject, predicate, and object identifiers  \n",
    "- How to run a simple query using SPARQL **[Moderate]**  \n",
    "- How to use the ontology to fetch more information from other sources **[Advanced]**  \n",
    "\n",
    "A live version of this notebook is available on Google Colab [here](https://colab.research.google.com/drive/19PxdZDPcKda8Ji6Nyzsz-_8KJFgNkmCa?usp=sharing)\n"
   ]
  },
  {
   "cell_type": "markdown",
   "metadata": {
    "id": "jcTVz9-DEh3m"
   },
   "source": [
    "## Describe the powder using ontology terms in JSON-LD format\n",
    "The JSON-LD data that we will use is:"
   ]
  },
  {
   "cell_type": "code",
   "execution_count": 104,
   "metadata": {
    "id": "gohQKEBrF2QP"
   },
   "outputs": [],
   "source": [
    "jsonld = {\n",
    "  \"@context\": \"https://raw.githubusercontent.com/emmo-repo/domain-electrochemistry/master/context.json\",\n",
    "  \"@type\": [\"Zinc\", \"Powder\"],\n",
    "  \"schema:manufacturer\": {\n",
    "      \"@id\": \"https://www.wikidata.org/wiki/Q680841\",\n",
    "      \"schema:name\": \"Sigma-Aldrich\"\n",
    "  },\n",
    "  \"schema:productID\": \"324930\",\n",
    "  \"schema:url\": \"https://www.sigmaaldrich.com/NO/en/product/aldrich/324930\",\n",
    "  \"hasProperty\": [\n",
    "      {\n",
    "        \"@type\": [\"D95ParticleSize\", \"ConventionalProperty\"],\n",
    "        \"hasNumericalPart\": {\n",
    "              \"@type\": \"Real\",\n",
    "              \"hasNumericalValue\": 150\n",
    "        },\n",
    "        \"hasMeasurementUnit\": \"emmo:MicroMetre\",\n",
    "        \"dc:source\": \"https://www.sigmaaldrich.com/NO/en/product/aldrich/324930\"\n",
    "      }\n",
    "  ]\n",
    "}"
   ]
  },
  {
   "cell_type": "markdown",
   "metadata": {
    "id": "in30p-x4H91Y"
   },
   "source": [
    "## Parse this description into a graph\n",
    "Now let's see how a machine would process this data by reading it into a Graph!\n",
    "\n",
    "First, we install and import the python dependencies that we need for this example."
   ]
  },
  {
   "cell_type": "code",
   "execution_count": 105,
   "metadata": {
    "id": "wk4sFl_eA2ML"
   },
   "outputs": [],
   "source": [
    "# Install and import dependencies\n",
    "!pip install jsonschema rdflib requests matplotlib > /dev/null\n",
    "\n",
    "import json\n",
    "import rdflib\n",
    "import requests\n",
    "import sys\n",
    "from IPython.display import Image, display\n",
    "import matplotlib.pyplot as plt"
   ]
  },
  {
   "cell_type": "markdown",
   "metadata": {
    "id": "lotp-0QABV-2"
   },
   "source": [
    "We create the graph using a very handy python package called [rdflib](https://rdflib.readthedocs.io/en/stable/), which provides us a way to parse our json-ld data, run some queries using the language [SPARQL](https://en.wikipedia.org/wiki/SPARQL), and serialize the graph in any RDF compatible format (e.g. JSON-LD, Turtle, etc.)."
   ]
  },
  {
   "cell_type": "code",
   "execution_count": 106,
   "metadata": {
    "colab": {
     "base_uri": "https://localhost:8080/"
    },
    "id": "zWibLw6NIrrq",
    "outputId": "2b87d0a0-06b4-4093-f44b-4add7f9651e0"
   },
   "outputs": [
    {
     "name": "stdout",
     "output_type": "stream",
     "text": [
      "(rdflib.term.BNode('Nba3653d5211a479faa84120717afec04'), rdflib.term.URIRef('https://schema.org/manufacturer'), rdflib.term.URIRef('https://www.wikidata.org/wiki/Q680841'))\n",
      "(rdflib.term.BNode('Nbad48dcf37014f5989126dde499c31e7'), rdflib.term.URIRef('http://www.w3.org/1999/02/22-rdf-syntax-ns#type'), rdflib.term.URIRef('http://emmo.info/emmo#EMMO_d8aa8e1f_b650_416d_88a0_5118de945456'))\n",
      "(rdflib.term.BNode('Nba17008e342643b8848eb653b0cc6c5f'), rdflib.term.URIRef('http://www.w3.org/1999/02/22-rdf-syntax-ns#type'), rdflib.term.URIRef('http://emmo.info/emmo#EMMO_18d180e4_5e3e_42f7_820c_e08951223486'))\n",
      "(rdflib.term.URIRef('https://www.wikidata.org/wiki/Q680841'), rdflib.term.URIRef('https://schema.org/name'), rdflib.term.Literal('Sigma-Aldrich'))\n",
      "(rdflib.term.BNode('Nbad48dcf37014f5989126dde499c31e7'), rdflib.term.URIRef('http://www.w3.org/1999/02/22-rdf-syntax-ns#type'), rdflib.term.URIRef('https://w3id.org/emmo/domain/electrochemistry#electrochemistry_02d2d1d1_241c_429b_b4e7_31f2c3dc4835'))\n",
      "(rdflib.term.BNode('Nbad48dcf37014f5989126dde499c31e7'), rdflib.term.URIRef('http://emmo.info/emmo#EMMO_bed1d005_b04e_4a90_94cf_02bc678a8569'), rdflib.term.URIRef('http://emmo.info/emmo#MicroMetre'))\n",
      "(rdflib.term.BNode('Nba3653d5211a479faa84120717afec04'), rdflib.term.URIRef('http://www.w3.org/1999/02/22-rdf-syntax-ns#type'), rdflib.term.URIRef('https://w3id.org/emmo/domain/electrochemistry#electrochemistry_ee479886_6805_4018_95e1_500185e44215'))\n",
      "(rdflib.term.BNode('Nba3653d5211a479faa84120717afec04'), rdflib.term.URIRef('https://schema.org/url'), rdflib.term.Literal('https://www.sigmaaldrich.com/NO/en/product/aldrich/324930'))\n",
      "(rdflib.term.BNode('Nbad48dcf37014f5989126dde499c31e7'), rdflib.term.URIRef('http://emmo.info/emmo#EMMO_8ef3cd6d_ae58_4a8d_9fc0_ad8f49015cd0'), rdflib.term.BNode('Nba17008e342643b8848eb653b0cc6c5f'))\n",
      "(rdflib.term.BNode('Nba3653d5211a479faa84120717afec04'), rdflib.term.URIRef('https://schema.org/productID'), rdflib.term.Literal('324930'))\n",
      "(rdflib.term.BNode('Nba3653d5211a479faa84120717afec04'), rdflib.term.URIRef('http://www.w3.org/1999/02/22-rdf-syntax-ns#type'), rdflib.term.URIRef('https://w3id.org/emmo/domain/chemicalsubstance#substance_9bd78e1c_a4dc_41b6_8013_adb51df1ffdc'))\n",
      "(rdflib.term.BNode('Nba17008e342643b8848eb653b0cc6c5f'), rdflib.term.URIRef('http://emmo.info/emmo#EMMO_faf79f53_749d_40b2_807c_d34244c192f4'), rdflib.term.Literal('150', datatype=rdflib.term.URIRef('http://www.w3.org/2001/XMLSchema#integer')))\n",
      "(rdflib.term.BNode('Nbad48dcf37014f5989126dde499c31e7'), rdflib.term.URIRef('http://purl.org/dc/elements/1.1/source'), rdflib.term.Literal('https://www.sigmaaldrich.com/NO/en/product/aldrich/324930'))\n",
      "(rdflib.term.BNode('Nba3653d5211a479faa84120717afec04'), rdflib.term.URIRef('http://emmo.info/emmo#EMMO_e1097637_70d2_4895_973f_2396f04fa204'), rdflib.term.BNode('Nbad48dcf37014f5989126dde499c31e7'))\n"
     ]
    }
   ],
   "source": [
    "# Create a new graph\n",
    "g = rdflib.Graph()\n",
    "\n",
    "# Parse our json-ld data into the graph\n",
    "g.parse(data=json.dumps(jsonld), format=\"json-ld\")\n",
    "\n",
    "# Create a SPARQL query to return all the triples in the graph\n",
    "query_all = \"\"\"\n",
    "SELECT ?subject ?predicate ?object\n",
    "WHERE {\n",
    "  ?subject ?predicate ?object\n",
    "}\n",
    "\"\"\"\n",
    "\n",
    "# Execute the SPARQL query\n",
    "all_the_things = g.query(query_all)\n",
    "\n",
    "# Print the results\n",
    "for row in all_the_things:\n",
    "    print(row)\n"
   ]
  },
  {
   "cell_type": "markdown",
   "metadata": {
    "id": "C-w1TbxkI4W5"
   },
   "source": [
    "You can see that our human-readable JSON-LD file has been transformed into some nasty looking (but machine-readable!) triples. Let's look at a couple in more detail to understand what's going on.<br><br>\n",
    "\n",
    "## Examine and explore the triples\n",
    "\n",
    "Let's start with this one:\n",
    "\n",
    "| &nbsp;   | &nbsp; |\n",
    "|-----------|--------------------------------------|\n",
    "| subject   | https://www.wikidata.org/wiki/Q680841 |\n",
    "| predicate | https://schema.org/name              |\n",
    "| object    | ‘Sigma-Aldrich’                      |\n",
    "\n",
    "This tells the machine that something with a wikidata identifier has a property called 'name' from the schema.org vocabulary with a literal value '**Sigma-Aldrich**'. These identifiers serve not only as persistent and unique identifiers for the concepts, but also point to a place where a machine can go to learn more about what it is. Try it yourself! Click on one and see where it takes you!<br><br>\n",
    "\n",
    "\n",
    "*Neat, right?!* Let's look at another one:\n",
    "\n",
    "| &nbsp;   | &nbsp; |\n",
    "|-----------|--------------------------------------|\n",
    "| subject   | 'Nb9d4bdc220954548a09b8b56f95d9cf3' |\n",
    "| predicate | http://www.w3.org/1999/02/22-rdf-syntax-ns#type            |\n",
    "| object    | https://w3id.org/emmo/domain/chemicalsubstance#substance_9bd78e1c_a4dc_41b6_8013_adb51df1ffdc                     |\n",
    "\n",
    "\n",
    "\n",
    "This tells the machine that a certain node in the graph is a a type of some thing that exists in the EMMO domain 'chemicalsubstance'. And this gets to one of the difficult bits for humans: many ontologies (like EMMO) use UUIDs for term names to ensure that they are universally unique. It works, but it sacrifices the human readability. Luckily we can get around this by assigning human-readable annotations to that term and/or mapping the IRI to a human readable label in a JSON-LD context like we did above.\n",
    "\n",
    "Go ahead, click the link and see if you can figure out what this thing is...\n",
    "\n",
    "...*it's Zinc!* Now we can see how our simple description in the JSON-LD file has now been converted to a machine-readable IRI.<br><br>\n",
    "\n",
    "## Query the graph using SPARQL [Moderate]\n",
    "\n",
    "Now, let's write a SPARQL query to get back some specific thing...like what is the name of the manufacturer?"
   ]
  },
  {
   "cell_type": "code",
   "execution_count": 107,
   "metadata": {
    "colab": {
     "base_uri": "https://localhost:8080/"
    },
    "id": "6bXHGG4cI-kr",
    "outputId": "c1a5fef2-f4bc-4e63-dc87-617f6bb9cecd"
   },
   "outputs": [
    {
     "name": "stdout",
     "output_type": "stream",
     "text": [
      "(rdflib.term.Literal('Sigma-Aldrich'),)\n"
     ]
    }
   ],
   "source": [
    "query = \"\"\"\n",
    "PREFIX schema: <https://schema.org/>\n",
    "\n",
    "SELECT ?manufacturerName\n",
    "WHERE {\n",
    "  ?thing schema:manufacturer ?manufacturer .\n",
    "  ?manufacturer schema:name ?manufacturerName .\n",
    "}\n",
    "\"\"\"\n",
    "\n",
    "# Execute the SPARQL query\n",
    "results = g.query(query)\n",
    "\n",
    "# Print the results\n",
    "for row in results:\n",
    "    print(row)\n"
   ]
  },
  {
   "cell_type": "markdown",
   "metadata": {
    "id": "b7LJC8BubFce"
   },
   "source": [
    "## Fetch additional information from other sources [Advanced]\n",
    "Ontologies contain a lot of information about the meaning of things, but they don't always contain an exhaustive list of all the properties. Instead, they often point to other sources where that information exists rather than duplicating it. Let's see how you can use the ontology to fetch additional information from other sources.\n",
    "\n",
    "First, we parse the ontology into the knowledge graph and retrieve the IRIs for the terms that we are interested in. In this case, we want to retrieve more information about Zinc from Wikidata, so we query the ontology to find Zinc's Wikidata ID."
   ]
  },
  {
   "cell_type": "code",
   "execution_count": 108,
   "metadata": {
    "colab": {
     "base_uri": "https://localhost:8080/"
    },
    "id": "ntT1Rf_yM6sZ",
    "outputId": "dbd2e4a6-6a4e-4e85-f221-ee240e79c9af"
   },
   "outputs": [
    {
     "name": "stdout",
     "output_type": "stream",
     "text": [
      "The Wikidata ID of Zinc: Q758\n"
     ]
    }
   ],
   "source": [
    "# Parse the ontology into the knowledge graph\n",
    "ontology = \"https://raw.githubusercontent.com/emmo-repo/domain-electrochemistry/master/electrochemistry-inferred.ttl\"\n",
    "g.parse(ontology, format='turtle')\n",
    "\n",
    "# Fetch the context\n",
    "context_url = 'https://raw.githubusercontent.com/emmo-repo/domain-electrochemistry/master/context.json'\n",
    "response = requests.get(context_url)\n",
    "context_data = response.json()\n",
    "\n",
    "# Look for the IRI of Zinc in the context\n",
    "zinc_iri = context_data.get('@context', {}).get('Zinc')\n",
    "wikidata_iri = context_data.get('@context', {}).get('wikidataReference')\n",
    "\n",
    "# Query the ontology to find the wikidata id for zinc\n",
    "query = \"\"\"\n",
    "SELECT ?wikidataId\n",
    "WHERE {\n",
    "    <%s> <%s> ?wikidataId .\n",
    "}\n",
    "\"\"\" % (zinc_iri, wikidata_iri)\n",
    "\n",
    "qres = g.query(query)\n",
    "for row in qres:\n",
    "    wikidata_id = row.wikidataId.split('/')[-1]\n",
    "\n",
    "print(f\"The Wikidata ID of Zinc: {wikidata_id}\")"
   ]
  },
  {
   "cell_type": "markdown",
   "metadata": {
    "id": "XGXFrNa5dKSr"
   },
   "source": [
    "Now that we have the Wikidata ID for Zinc, we can query their SPARQL endpoint to retrieve some property. Let's ask it for the atomic mass."
   ]
  },
  {
   "cell_type": "code",
   "execution_count": 109,
   "metadata": {
    "colab": {
     "base_uri": "https://localhost:8080/"
    },
    "id": "zTBOZAf-dWQQ",
    "outputId": "e894b2c6-e2fc-4564-b77f-3e623afeecdb"
   },
   "outputs": [
    {
     "name": "stdout",
     "output_type": "stream",
     "text": [
      "Wikidata says the atomic mass of zinc is: 65.38\n"
     ]
    }
   ],
   "source": [
    "# Query the Wikidata knowledge graph for more information about zinc\n",
    "wikidata_endpoint = \"https://query.wikidata.org/sparql\"\n",
    "\n",
    "# SPARQL query to get the atomic mass of zinc (Q758)\n",
    "query = \"\"\"\n",
    "SELECT ?mass WHERE {\n",
    "  wd:%s wdt:P2067 ?mass .\n",
    "}\n",
    "\"\"\" % wikidata_id\n",
    "\n",
    "# Execute the request\n",
    "response = requests.get(wikidata_endpoint, params={'query': query, 'format': 'json'})\n",
    "data = response.json()\n",
    "\n",
    "# Extract and print the mass value\n",
    "mass = data['results']['bindings'][0]['mass']['value']\n",
    "print(f\"Wikidata says the atomic mass of zinc is: {mass}\")"
   ]
  },
  {
   "cell_type": "markdown",
   "metadata": {
    "id": "-xdSIS6Idy5m"
   },
   "source": [
    "We can also retrieve more complex data. For example, let's ask Wikidata to show us an image of zinc."
   ]
  },
  {
   "cell_type": "code",
   "execution_count": 110,
   "metadata": {
    "colab": {
     "base_uri": "https://localhost:8080/",
     "height": 222
    },
    "id": "T7bkBY0sNqNY",
    "outputId": "a5cad6b9-84be-43b2-9411-569f938a09fc"
   },
   "outputs": [
    {
     "name": "stdout",
     "output_type": "stream",
     "text": [
      "Image of Zinc: http://commons.wikimedia.org/wiki/Special:FilePath/Zinc%20fragment%20sublimed%20and%201cm3%20cube.jpg\n"
     ]
    },
    {
     "data": {
      "text/html": [
       "<img src=\"http://commons.wikimedia.org/wiki/Special:FilePath/Zinc%20fragment%20sublimed%20and%201cm3%20cube.jpg\" width=\"300\"/>"
      ],
      "text/plain": [
       "<IPython.core.display.Image object>"
      ]
     },
     "metadata": {},
     "output_type": "display_data"
    }
   ],
   "source": [
    "# SPARQL query to get the image of zinc (Q758)\n",
    "query = \"\"\"\n",
    "SELECT ?image WHERE {\n",
    "  wd:%s wdt:P18 ?image .\n",
    "}\n",
    "\"\"\" % wikidata_id\n",
    "\n",
    "# Execute the request\n",
    "response = requests.get(wikidata_endpoint, params={'query': query, 'format': 'json'})\n",
    "data = response.json()\n",
    "\n",
    "# Extract and display the image URL\n",
    "if data['results']['bindings']:\n",
    "    image_url = data['results']['bindings'][0]['image']['value']\n",
    "    print(f\"Image of Zinc: {image_url}\")\n",
    "    display(Image(url=image_url, width=300))  # Adjust width and height as needed\n",
    "\n",
    "else:\n",
    "    print(\"No image found for Zinc.\")"
   ]
  },
  {
   "cell_type": "code",
   "execution_count": 110,
   "metadata": {
    "id": "T1qUAeCDVNq3"
   },
   "outputs": [],
   "source": []
  }
 ],
 "metadata": {
  "colab": {
   "provenance": []
  },
  "kernelspec": {
   "display_name": "Python 3",
   "name": "python3"
  },
  "language_info": {
   "name": "python"
  }
 },
 "nbformat": 4,
 "nbformat_minor": 0
}

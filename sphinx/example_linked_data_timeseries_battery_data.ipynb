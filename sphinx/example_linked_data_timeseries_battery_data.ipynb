{
  "nbformat": 4,
  "nbformat_minor": 0,
  "metadata": {
    "colab": {
      "provenance": []
    },
    "kernelspec": {
      "name": "python3",
      "display_name": "Python 3"
    },
    "language_info": {
      "name": "python"
    }
  },
  "cells": [
    {
      "cell_type": "markdown",
      "source": [
        "\\# Example: Timeseries Battery Data\n",
        "\n",
        "Let's describe a csv file containing some timeseries battery data and then anaylze it using the ontology!\n",
        "\n",
        "This example covers a few topics:  \n",
        "\n",
        "- How to describe tabular data using ontology terms and JSON-LD  \n",
        "- How machines convert JSON-LD into triples  \n",
        "- How to process tabular data using its ontology metadata **[Advanced]**  \n",
        "\n",
        "A live version of this notebook is available on Google Colab [here](https://colab.research.google.com/drive/1i-z6m6MEtQw_MG0Ypn37i0jfySYwize3?usp=sharing)\n"
      ],
      "metadata": {
        "id": "1wseTQGaB4x9"
      }
    },
    {
      "cell_type": "code",
      "source": [
        "# Install and import dependencies\n",
        "!pip install jsonschema rdflib requests matplotlib > /dev/null\n",
        "\n",
        "import json\n",
        "import rdflib\n",
        "import requests\n",
        "import sys\n",
        "import pandas as pd\n",
        "import matplotlib.pyplot as plt"
      ],
      "metadata": {
        "id": "GoMrOFoalJ4L"
      },
      "execution_count": 64,
      "outputs": []
    },
    {
      "cell_type": "markdown",
      "source": [
        "## Describe the csv file using ontology terms in JSON-LD format\n",
        "The JSON-LD data that we will use is:"
      ],
      "metadata": {
        "id": "jcTVz9-DEh3m"
      }
    },
    {
      "cell_type": "code",
      "source": [
        "metadata = {\n",
        "            \"@context\": \"https://raw.githubusercontent.com/emmo-repo/domain-battery/master/context.json\",\n",
        "            \"@type\": \"MeasurementResult\",\n",
        "            \"csvw:url\": \"https://raw.githubusercontent.com/BIG-MAP/BattINFO/master/sphinx/assets/data/discharge_timeseries.csv\",\n",
        "            \"dc:title\": \"Synthetic Discharge Curve Demo\",\n",
        "            \"dcat:keyword\": [\"battery\", \"li-ion\", \"discharge\"],\n",
        "            \"dc:license\": {\"@id\": \"http://opendefinition.org/licenses/cc-by/\"},\n",
        "            \"dc:modified\": {\"@value\": \"2024-01-10\", \"@type\": \"xsd:date\"},\n",
        "            \"csvw:tableSchema\": {\n",
        "                \"csvw:columns\": [{\n",
        "                  \"csvw:name\": \"time\",\n",
        "                  \"csvw:titles\": \"Time / s\",\n",
        "                  \"csvw:propertyUrl\": {\n",
        "                    \"@type\": \"Time\"\n",
        "                  },\n",
        "                  \"hasMeasurementUnit\": {\n",
        "                    \"@type\": \"Second\"\n",
        "                  },\n",
        "                  \"csvw:datatype\": \"number\",\n",
        "                  \"csvw:required\": \"true\"\n",
        "                }, {\n",
        "                  \"csvw:name\": \"voltage\",\n",
        "                  \"csvw:titles\": \"Voltage / V\",\n",
        "                  \"csvw:propertyUrl\": {\n",
        "                    \"@type\": \"CellVoltage\"\n",
        "                  },\n",
        "                  \"hasMeasurementUnit\": {\n",
        "                    \"@type\": \"Volt\"\n",
        "                  },\n",
        "                  \"csvw:datatype\": \"number\"\n",
        "                }, {\n",
        "                  \"csvw:name\": \"current\",\n",
        "                  \"csvw:titles\": \"Current / A\",\n",
        "                  \"csvw:propertyUrl\": {\n",
        "                    \"@type\": \"CellCurrent\"\n",
        "                  },\n",
        "                  \"hasMeasurementUnit\": {\n",
        "                    \"@type\": \"Ampere\"\n",
        "                  },\n",
        "                  \"csvw:datatype\": \"number\"\n",
        "                }],\n",
        "                \"csvw:primaryKey\": \"time\",\n",
        "                \"csvw:aboutUrl\": \"#time-{time}\"\n",
        "              }\n",
        "        }"
      ],
      "metadata": {
        "id": "gohQKEBrF2QP"
      },
      "execution_count": 65,
      "outputs": []
    },
    {
      "cell_type": "markdown",
      "source": [
        "## Parse this description into a graph\n",
        "Now let's see how a machine would process this data by reading it into a Graph!\n"
      ],
      "metadata": {
        "id": "in30p-x4H91Y"
      }
    },
    {
      "cell_type": "markdown",
      "source": [
        "We create the graph using a very handy python package called [rdflib](https://rdflib.readthedocs.io/en/stable/), which provides us a way to parse our json-ld data, run some queries using the language [SPARQL](https://en.wikipedia.org/wiki/SPARQL), and serialize the graph in any RDF compatible format (e.g. JSON-LD, Turtle, etc.)."
      ],
      "metadata": {
        "id": "lotp-0QABV-2"
      }
    },
    {
      "cell_type": "code",
      "source": [
        "# Create a new graph\n",
        "g = rdflib.Graph()\n",
        "\n",
        "# Parse our json-ld data into the graph\n",
        "g.parse(data=json.dumps(metadata), format=\"json-ld\")\n",
        "\n",
        "# Create a SPARQL query to return all the triples in the graph\n",
        "query_all = \"\"\"\n",
        "SELECT ?subject ?predicate ?object\n",
        "WHERE {\n",
        "  ?subject ?predicate ?object\n",
        "}\n",
        "\"\"\"\n",
        "\n",
        "# Execute the SPARQL query\n",
        "all_the_things = g.query(query_all)\n",
        "\n",
        "# Print the results\n",
        "for row in all_the_things:\n",
        "    print(row)\n"
      ],
      "metadata": {
        "colab": {
          "base_uri": "https://localhost:8080/"
        },
        "id": "zWibLw6NIrrq",
        "outputId": "99b89cbb-cd31-4020-ed18-e91f4ad322a6"
      },
      "execution_count": 66,
      "outputs": [
        {
          "output_type": "stream",
          "name": "stdout",
          "text": [
            "(rdflib.term.BNode('Ne0e29b515ec84d53800f1108468b85fc'), rdflib.term.URIRef('http://www.w3.org/ns/csvw#name'), rdflib.term.Literal('time'))\n",
            "(rdflib.term.BNode('Nd0887b1b0a7741c588e7c70dc5b3f56b'), rdflib.term.URIRef('http://www.w3.org/ns/csvw#datatype'), rdflib.term.Literal('number'))\n",
            "(rdflib.term.BNode('Ncc179b393bc14fdeae7d2a34157c3cd2'), rdflib.term.URIRef('http://www.w3.org/ns/csvw#columns'), rdflib.term.BNode('Naeb689e13f9f40dc844f61a331ed2efd'))\n",
            "(rdflib.term.BNode('Nd0887b1b0a7741c588e7c70dc5b3f56b'), rdflib.term.URIRef('http://www.w3.org/ns/csvw#name'), rdflib.term.Literal('voltage'))\n",
            "(rdflib.term.BNode('Nb673f4e33722411498ab1687a094142f'), rdflib.term.URIRef('http://purl.org/dc/elements/1.1/license'), rdflib.term.URIRef('http://opendefinition.org/licenses/cc-by/'))\n",
            "(rdflib.term.BNode('Nef364aad4f0d4e27ae47eab2a5adffe0'), rdflib.term.URIRef('http://www.w3.org/1999/02/22-rdf-syntax-ns#type'), rdflib.term.URIRef('http://emmo.info/electrochemistry#electrochemistry_4ebe2ef1_eea8_4b10_822d_7a68215bd24d'))\n",
            "(rdflib.term.BNode('Naeb689e13f9f40dc844f61a331ed2efd'), rdflib.term.URIRef('http://www.w3.org/ns/csvw#propertyUrl'), rdflib.term.BNode('Ncbe52273771f43b78902b14aba5e4399'))\n",
            "(rdflib.term.BNode('Ne5682488d92144b699711e9a9a180e1f'), rdflib.term.URIRef('http://www.w3.org/1999/02/22-rdf-syntax-ns#type'), rdflib.term.URIRef('http://emmo.info/emmo#Second'))\n",
            "(rdflib.term.BNode('Ne0e29b515ec84d53800f1108468b85fc'), rdflib.term.URIRef('http://www.w3.org/ns/csvw#titles'), rdflib.term.Literal('Time / s'))\n",
            "(rdflib.term.BNode('Nb673f4e33722411498ab1687a094142f'), rdflib.term.URIRef('http://www.w3.org/ns/csvw#tableSchema'), rdflib.term.BNode('Ncc179b393bc14fdeae7d2a34157c3cd2'))\n",
            "(rdflib.term.BNode('Ncc179b393bc14fdeae7d2a34157c3cd2'), rdflib.term.URIRef('http://www.w3.org/ns/csvw#aboutUrl'), rdflib.term.Literal('#time-{time}'))\n",
            "(rdflib.term.BNode('Naeb689e13f9f40dc844f61a331ed2efd'), rdflib.term.URIRef('http://www.w3.org/ns/csvw#datatype'), rdflib.term.Literal('number'))\n",
            "(rdflib.term.BNode('N7343ef083a5f479081b727ba2218c90d'), rdflib.term.URIRef('http://www.w3.org/1999/02/22-rdf-syntax-ns#type'), rdflib.term.URIRef('http://emmo.info/emmo#Ampere'))\n",
            "(rdflib.term.BNode('Ne0e29b515ec84d53800f1108468b85fc'), rdflib.term.URIRef('http://emmo.info/emmo#EMMO_bed1d005_b04e_4a90_94cf_02bc678a8569'), rdflib.term.BNode('Ne5682488d92144b699711e9a9a180e1f'))\n",
            "(rdflib.term.BNode('Ne0e29b515ec84d53800f1108468b85fc'), rdflib.term.URIRef('http://www.w3.org/ns/csvw#required'), rdflib.term.Literal('true'))\n",
            "(rdflib.term.BNode('Nb673f4e33722411498ab1687a094142f'), rdflib.term.URIRef('http://www.w3.org/ns/dcat#keyword'), rdflib.term.Literal('li-ion'))\n",
            "(rdflib.term.BNode('Nd0887b1b0a7741c588e7c70dc5b3f56b'), rdflib.term.URIRef('http://www.w3.org/ns/csvw#propertyUrl'), rdflib.term.BNode('Nef364aad4f0d4e27ae47eab2a5adffe0'))\n",
            "(rdflib.term.BNode('Nd0887b1b0a7741c588e7c70dc5b3f56b'), rdflib.term.URIRef('http://www.w3.org/ns/csvw#titles'), rdflib.term.Literal('Voltage / V'))\n",
            "(rdflib.term.BNode('Naeb689e13f9f40dc844f61a331ed2efd'), rdflib.term.URIRef('http://www.w3.org/ns/csvw#titles'), rdflib.term.Literal('Current / A'))\n",
            "(rdflib.term.BNode('Naeb689e13f9f40dc844f61a331ed2efd'), rdflib.term.URIRef('http://emmo.info/emmo#EMMO_bed1d005_b04e_4a90_94cf_02bc678a8569'), rdflib.term.BNode('N7343ef083a5f479081b727ba2218c90d'))\n",
            "(rdflib.term.BNode('Nb673f4e33722411498ab1687a094142f'), rdflib.term.URIRef('http://purl.org/dc/elements/1.1/modified'), rdflib.term.Literal('2024-01-10', datatype=rdflib.term.URIRef('http://www.w3.org/2001/XMLSchema#date')))\n",
            "(rdflib.term.BNode('Nd0887b1b0a7741c588e7c70dc5b3f56b'), rdflib.term.URIRef('http://emmo.info/emmo#EMMO_bed1d005_b04e_4a90_94cf_02bc678a8569'), rdflib.term.BNode('N81642f0d2e964e659bde47bbcc3332e6'))\n",
            "(rdflib.term.BNode('N81642f0d2e964e659bde47bbcc3332e6'), rdflib.term.URIRef('http://www.w3.org/1999/02/22-rdf-syntax-ns#type'), rdflib.term.URIRef('http://emmo.info/emmo#Volt'))\n",
            "(rdflib.term.BNode('Naeb689e13f9f40dc844f61a331ed2efd'), rdflib.term.URIRef('http://www.w3.org/ns/csvw#name'), rdflib.term.Literal('current'))\n",
            "(rdflib.term.BNode('Ncbe52273771f43b78902b14aba5e4399'), rdflib.term.URIRef('http://www.w3.org/1999/02/22-rdf-syntax-ns#type'), rdflib.term.URIRef('http://emmo.info/electrochemistry#electrochemistry_637ee9c4_4b3f_4d3a_975b_c0572dfe53ce'))\n",
            "(rdflib.term.BNode('Nb673f4e33722411498ab1687a094142f'), rdflib.term.URIRef('http://www.w3.org/ns/dcat#keyword'), rdflib.term.Literal('discharge'))\n",
            "(rdflib.term.BNode('Nb673f4e33722411498ab1687a094142f'), rdflib.term.URIRef('http://www.w3.org/ns/dcat#keyword'), rdflib.term.Literal('battery'))\n",
            "(rdflib.term.BNode('Ne0e29b515ec84d53800f1108468b85fc'), rdflib.term.URIRef('http://www.w3.org/ns/csvw#datatype'), rdflib.term.Literal('number'))\n",
            "(rdflib.term.BNode('Ne0e29b515ec84d53800f1108468b85fc'), rdflib.term.URIRef('http://www.w3.org/ns/csvw#propertyUrl'), rdflib.term.BNode('N15e90897cf4b4ad1b7a0f9d170a4a9f1'))\n",
            "(rdflib.term.BNode('Nb673f4e33722411498ab1687a094142f'), rdflib.term.URIRef('http://purl.org/dc/elements/1.1/title'), rdflib.term.Literal('Synthetic Discharge Curve Demo'))\n",
            "(rdflib.term.BNode('Ncc179b393bc14fdeae7d2a34157c3cd2'), rdflib.term.URIRef('http://www.w3.org/ns/csvw#primaryKey'), rdflib.term.Literal('time'))\n",
            "(rdflib.term.BNode('Ncc179b393bc14fdeae7d2a34157c3cd2'), rdflib.term.URIRef('http://www.w3.org/ns/csvw#columns'), rdflib.term.BNode('Ne0e29b515ec84d53800f1108468b85fc'))\n",
            "(rdflib.term.BNode('Nb673f4e33722411498ab1687a094142f'), rdflib.term.URIRef('http://www.w3.org/1999/02/22-rdf-syntax-ns#type'), rdflib.term.URIRef('http://emmo.info/emmo#EMMO_0f6f0120_c079_4d95_bb11_4ddee05e530e'))\n",
            "(rdflib.term.BNode('Nb673f4e33722411498ab1687a094142f'), rdflib.term.URIRef('http://www.w3.org/ns/csvw#url'), rdflib.term.Literal('https://raw.githubusercontent.com/BIG-MAP/BattINFO/master/sphinx/assets/data/discharge_timeseries.csv'))\n",
            "(rdflib.term.BNode('N15e90897cf4b4ad1b7a0f9d170a4a9f1'), rdflib.term.URIRef('http://www.w3.org/1999/02/22-rdf-syntax-ns#type'), rdflib.term.URIRef('http://emmo.info/emmo#EMMO_d4f7d378_5e3b_468a_baa1_a7e98358cda7'))\n",
            "(rdflib.term.BNode('Ncc179b393bc14fdeae7d2a34157c3cd2'), rdflib.term.URIRef('http://www.w3.org/ns/csvw#columns'), rdflib.term.BNode('Nd0887b1b0a7741c588e7c70dc5b3f56b'))\n"
          ]
        }
      ]
    },
    {
      "cell_type": "markdown",
      "source": [
        "You can see that our human-readable JSON-LD file has been transformed into some nasty looking (but machine-readable!) triples.\n",
        "\n",
        "## Query the Graph to select instances with certain properties [Advanced]\n",
        "\n",
        "Now, let's write a SPARQL query to first get the location where the raw data is stored..."
      ],
      "metadata": {
        "id": "C-w1TbxkI4W5"
      }
    },
    {
      "cell_type": "code",
      "source": [
        "# Create a SPARQL query to return url of the raw data\n",
        "query = \"\"\"\n",
        "PREFIX csvw: <http://www.w3.org/ns/csvw#>\n",
        "\n",
        "SELECT ?url WHERE {\n",
        "    ?measurement csvw:url ?url.\n",
        "}\n",
        "\"\"\"\n",
        "\n",
        "# Execute the SPARQL query\n",
        "results = g.query(query)\n",
        "\n",
        "# Print the results\n",
        "for row in results:\n",
        "    csv_url = str(row[0])  # Convert the Literal to a string\n",
        "    print(csv_url)\n"
      ],
      "metadata": {
        "colab": {
          "base_uri": "https://localhost:8080/"
        },
        "id": "bzvQgeS0mTTS",
        "outputId": "5de79de6-916e-4f97-ffe9-1e51189d3d2b"
      },
      "execution_count": 67,
      "outputs": [
        {
          "output_type": "stream",
          "name": "stdout",
          "text": [
            "https://raw.githubusercontent.com/BIG-MAP/BattINFO/master/sphinx/assets/data/discharge_timeseries.csv\n"
          ]
        }
      ]
    },
    {
      "cell_type": "markdown",
      "source": [
        "Now we will read it into a pandas dataframe."
      ],
      "metadata": {
        "id": "d4-xrCS0vHsy"
      }
    },
    {
      "cell_type": "code",
      "source": [
        "# Read the CSV file into a pandas DataFrame\n",
        "# You may need to adjust this based on the specifics of your CSV file\n",
        "df = pd.read_csv(csv_url)\n",
        "print(df.head(10))"
      ],
      "metadata": {
        "colab": {
          "base_uri": "https://localhost:8080/"
        },
        "id": "JK-mhTMqnUp-",
        "outputId": "d2144690-5f28-41b6-c4ec-e079c6178774"
      },
      "execution_count": 68,
      "outputs": [
        {
          "output_type": "stream",
          "name": "stdout",
          "text": [
            "    Time / s  Voltage / V  Current / A\n",
            "0    0.00000     4.200000          0.0\n",
            "1    0.84375     4.100028          2.0\n",
            "2    2.53125     4.096626          2.0\n",
            "3    5.90625     4.091473          2.0\n",
            "4   12.65625     4.084031          2.0\n",
            "5   26.15625     4.073751          2.0\n",
            "6   53.15625     4.060383          2.0\n",
            "7  107.15625     4.044397          2.0\n",
            "8  161.15625     4.034244          2.0\n",
            "9  215.15625     4.027523          2.0\n"
          ]
        }
      ]
    },
    {
      "cell_type": "markdown",
      "source": [
        "Finally, we can query the metadata in the Graph to check if certain quantities are present (using ontology terms for Time and CellVoltage) and if so, plot them together..."
      ],
      "metadata": {
        "id": "sXV4KcIcvK_4"
      }
    },
    {
      "cell_type": "code",
      "source": [
        "# Extract column names for 'Time' and 'CellVoltage' based on propertyUrl\n",
        "time_column = None\n",
        "voltage_column = None\n",
        "\n",
        "# Get the relevant IRIs from the context\n",
        "context_url = 'https://raw.githubusercontent.com/emmo-repo/domain-battery/master/context.json'\n",
        "response = requests.get(context_url)\n",
        "context_data = response.json()\n",
        "\n",
        "time_iri = context_data.get('@context', {}).get('Time')\n",
        "voltage_iri = context_data.get('@context', {}).get('CellVoltage')\n",
        "\n",
        "# Get the time column label\n",
        "query = f\"\"\"\n",
        "PREFIX csvw: <http://www.w3.org/ns/csvw#>\n",
        "\n",
        "SELECT ?columnName WHERE {{\n",
        "    ?table csvw:tableSchema ?schema.\n",
        "    ?schema csvw:columns ?column.\n",
        "\n",
        "    ?column csvw:propertyUrl ?propertynode.\n",
        "    ?propertynode a <{time_iri}>.\n",
        "    ?column csvw:titles ?columnName.\n",
        "}}\n",
        "\"\"\"\n",
        "\n",
        "# Execute the SPARQL query\n",
        "results = g.query(query)\n",
        "\n",
        "# Print the results\n",
        "for row in results:\n",
        "    time_column = str(row[0])  # Convert the Literal to a string\n",
        "\n",
        "# Get the voltage column label\n",
        "query = f\"\"\"\n",
        "PREFIX csvw: <http://www.w3.org/ns/csvw#>\n",
        "\n",
        "SELECT ?columnName WHERE {{\n",
        "    ?table csvw:tableSchema ?schema.\n",
        "    ?schema csvw:columns ?column.\n",
        "\n",
        "    ?column csvw:propertyUrl ?propertynode.\n",
        "    ?propertynode a <{voltage_iri}>.\n",
        "    ?column csvw:titles ?columnName.\n",
        "}}\n",
        "\"\"\"\n",
        "\n",
        "# Execute the SPARQL query\n",
        "results = g.query(query)\n",
        "\n",
        "# Print the results\n",
        "for row in results:\n",
        "    voltage_column = str(row[0])  # Convert the Literal to a string\n",
        "\n",
        "# Check if columns are found\n",
        "if time_column and voltage_column:\n",
        "    # Plot Voltage vs Time\n",
        "    plt.figure(figsize=(10, 6))\n",
        "    plt.plot(df[time_column], df[voltage_column], label=\"Voltage vs Time\")\n",
        "    plt.xlabel(f\"{time_column}\")\n",
        "    plt.ylabel(f\"{voltage_column}\")\n",
        "    plt.title(\"Voltage vs Time\")\n",
        "    plt.legend()\n",
        "    plt.show()\n",
        "else:\n",
        "    print(\"Required columns not found in metadata.\")\n"
      ],
      "metadata": {
        "colab": {
          "base_uri": "https://localhost:8080/",
          "height": 564
        },
        "id": "YgHzwFzwn1TB",
        "outputId": "b5436c51-7d2a-441d-88ff-763bc550198b"
      },
      "execution_count": 69,
      "outputs": [
        {
          "output_type": "display_data",
          "data": {
            "text/plain": [
              "<Figure size 1000x600 with 1 Axes>"
            ],
            "image/png": "[encoded data removed]"
          },
          "metadata": {}
        }
      ]
    }
  ]
}